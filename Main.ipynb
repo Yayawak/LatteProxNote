{
 "cells": [
  {
   "cell_type": "code",
   "execution_count": 1,
   "id": "628b9cca-d530-4be3-8cb9-d7391dce62f6",
   "metadata": {},
   "outputs": [
    {
     "name": "stderr",
     "output_type": "stream",
     "text": [
      "QLayout: Attempting to add QLayout \"\" to MainWidget \"\", which already has a layout\n"
     ]
    },
    {
     "name": "stdout",
     "output_type": "stream",
     "text": [
      "0\n"
     ]
    }
   ],
   "source": [
    "from PyQt5.QtWidgets import QApplication, QWidget, \\\n",
    "    QPushButton, QAction, QTabWidget, QVBoxLayout, \\\n",
    "    QMainWindow\n",
    "from PyQt5.QtCore import Qt, pyqtSlot\n",
    "from PyQt5.QtGui import QIcon\n",
    "import sys\n",
    "\n",
    "class App(QMainWindow):\n",
    "    \n",
    "    def __init__(self):\n",
    "        super().__init__()\n",
    "        self.title = \"Image Processing Notebook by Yawak\"\n",
    "        self.setGeometry(200, 200, 700, 300)\n",
    "        self.setWindowTitle(self.title)\n",
    "        self.setWindowFlag(Qt.WindowStaysOnTopHint)\n",
    "        # self.setC\n",
    "        self.mainWidget = MainWidget(self)\n",
    "        self.setCentralWidget(self.mainWidget)\n",
    "        \n",
    "        self.show()\n",
    "\n",
    "class MainWidget(QWidget):\n",
    "    def __init__(self, parent):\n",
    "        super(QWidget, self).__init__(parent)\n",
    "        self.layout = QVBoxLayout(self)\n",
    "        \n",
    "        self.tabs = QTabWidget()\n",
    "        self.introductionTab = QWidget()\n",
    "        self.binaryImgProc = QWidget()\n",
    "        self.tabs.resize(400, 200)\n",
    "        \n",
    "        self.tabs.addTab(self.introductionTab, \"introduction tab\")\n",
    "        self.tabs.addTab(self.binaryImgProc, \"binary image processing tab\")\n",
    "        \n",
    "        self.introductionTab.layout = QVBoxLayout(self)\n",
    "        self.exitBtn = QPushButton(\"Exit this chapter\")\n",
    "        self.nextBtn = QPushButton(\"next lesson\", self)\n",
    "        self.introductionTab.layout.addWidget(self.exitBtn)\n",
    "        self.introductionTab.layout.addWidget(self.nextBtn)\n",
    "        self.introductionTab.setLayout(self.introductionTab.layout)\n",
    "        \n",
    "        \n",
    "        self.layout.addWidget(self.tabs)\n",
    "        self.setLayout(self.layout)\n",
    "    \n",
    "    @pyqtSlot()\n",
    "    def on_click(self):\n",
    "        print(\"\\n\")\n",
    "        # for _ in self.tableWidget.selectedItems():\n",
    "        for tabWidget in self.mainWidget.selectedItems():\n",
    "            # print(\"x\")\n",
    "    \n",
    "if __name__ == '__main__':\n",
    "    app = QApplication(sys.argv)\n",
    "    ex = App()\n",
    "    # sys.exit(app.exec_())\n",
    "    print(app.exec_())"
   ]
  },
  {
   "cell_type": "code",
   "execution_count": null,
   "id": "0f0da843-b755-4f5e-b122-3d84eedb56f1",
   "metadata": {},
   "outputs": [],
   "source": []
  }
 ],
 "metadata": {
  "kernelspec": {
   "display_name": "Python 3 (ipykernel)",
   "language": "python",
   "name": "python3"
  },
  "language_info": {
   "codemirror_mode": {
    "name": "ipython",
    "version": 3
   },
   "file_extension": ".py",
   "mimetype": "text/x-python",
   "name": "python",
   "nbconvert_exporter": "python",
   "pygments_lexer": "ipython3",
   "version": "3.9.13"
  }
 },
 "nbformat": 4,
 "nbformat_minor": 5
}
