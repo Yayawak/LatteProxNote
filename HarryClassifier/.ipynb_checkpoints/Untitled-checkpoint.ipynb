{
 "cells": [
  {
   "cell_type": "code",
   "execution_count": 1,
   "id": "a868783c-2064-4673-8d8c-19b49d3704a5",
   "metadata": {},
   "outputs": [],
   "source": [
    "import torch\n",
    "import torchvision\n",
    "from torchvision import transforms"
   ]
  },
  {
   "cell_type": "code",
   "execution_count": 2,
   "id": "7e5f1b0b-d067-4472-9073-6e737370d75f",
   "metadata": {},
   "outputs": [
    {
     "data": {
      "text/plain": [
       "<module 'torchvision' from '/Users/rio/opt/anaconda3/lib/python3.9/site-packages/torchvision/__init__.py'>"
      ]
     },
     "execution_count": 2,
     "metadata": {},
     "output_type": "execute_result"
    }
   ],
   "source": [
    "torchvision"
   ]
  },
  {
   "cell_type": "code",
   "execution_count": 6,
   "id": "74051b18-7b71-45de-82b0-a915eb22397a",
   "metadata": {},
   "outputs": [
    {
     "data": {
      "text/plain": [
       "['data_batch_1', 'c99cafc152244af753f735de768cd75f']"
      ]
     },
     "execution_count": 6,
     "metadata": {},
     "output_type": "execute_result"
    }
   ],
   "source": [
    "torchvision.datasets.CIFAR10.train_list[0]"
   ]
  },
  {
   "cell_type": "code",
   "execution_count": 11,
   "id": "8d3b86c1-ea3f-4b9b-8dbe-5d1953b76929",
   "metadata": {},
   "outputs": [
    {
     "data": {
      "text/plain": [
       "tensor([7., 7.])"
      ]
     },
     "execution_count": 11,
     "metadata": {},
     "output_type": "execute_result"
    }
   ],
   "source": [
    "torch.Tensor([1, 2]).fill_(7)"
   ]
  },
  {
   "cell_type": "code",
   "execution_count": 13,
   "id": "3f407e34-08d1-4d79-9fa1-d8159ede3867",
   "metadata": {},
   "outputs": [
    {
     "data": {
      "text/plain": [
       "tensor([[0.3707, 0.7904, 0.5344, 0.3271],\n",
       "        [0.5213, 0.3682, 0.0776, 0.4786],\n",
       "        [0.4203, 0.2554, 0.6303, 0.6255],\n",
       "        [0.9297, 0.0960, 0.1669, 0.3877]])"
      ]
     },
     "execution_count": 13,
     "metadata": {},
     "output_type": "execute_result"
    }
   ],
   "source": [
    "torch.rand(4, 4)"
   ]
  },
  {
   "cell_type": "code",
   "execution_count": 17,
   "id": "78a4b689-64c9-4f6e-b144-83781cf1b4fd",
   "metadata": {},
   "outputs": [
    {
     "data": {
      "text/plain": [
       "tensor([1, 0, 4, 3, 2])"
      ]
     },
     "execution_count": 17,
     "metadata": {},
     "output_type": "execute_result"
    }
   ],
   "source": [
    "torch.randperm(5)"
   ]
  },
  {
   "cell_type": "code",
   "execution_count": 19,
   "id": "f3149045-b3b1-4f46-a461-d3e09c73e85b",
   "metadata": {},
   "outputs": [],
   "source": [
    "import numpy as np"
   ]
  },
  {
   "cell_type": "code",
   "execution_count": 20,
   "id": "79fc3f7e-774b-4d98-9f06-8195076d59b3",
   "metadata": {},
   "outputs": [
    {
     "data": {
      "text/plain": [
       "tensor([0, 1, 2, 3, 4, 5, 6, 7, 8])"
      ]
     },
     "execution_count": 20,
     "metadata": {},
     "output_type": "execute_result"
    }
   ],
   "source": [
    "torch.from_numpy(np.arange(9))"
   ]
  },
  {
   "cell_type": "code",
   "execution_count": 25,
   "id": "2bb2dc7d-6ca1-4c2d-87b0-1c83a8c97250",
   "metadata": {},
   "outputs": [
    {
     "data": {
      "text/plain": [
       "tensor(10.)"
      ]
     },
     "execution_count": 25,
     "metadata": {},
     "output_type": "execute_result"
    }
   ],
   "source": [
    "torch.matmul(torch.Tensor([1,2]), torch.Tensor([4,3]))"
   ]
  },
  {
   "cell_type": "code",
   "execution_count": 28,
   "id": "99c85b6e-a5a8-4de4-96da-c766f35f2353",
   "metadata": {},
   "outputs": [
    {
     "data": {
      "text/plain": [
       "Compose(\n",
       "    ToTensor()\n",
       "    Normalize(mean=(0.5, 0.5, 0.5), std=(0.5, 0.5, 0.5))\n",
       ")"
      ]
     },
     "execution_count": 28,
     "metadata": {},
     "output_type": "execute_result"
    }
   ],
   "source": [
    "transform = transforms.Compose(\n",
    "    [transforms.ToTensor(),\n",
    "     transforms.Normalize(\n",
    "         (0.5, 0.5, 0.5),\n",
    "         (0.5, 0.5, 0.5)\n",
    "     )\n",
    "    ]\n",
    ")\n",
    "transform"
   ]
  },
  {
   "cell_type": "code",
   "execution_count": 29,
   "id": "37c328b2-255a-439d-9ed6-769dc9839386",
   "metadata": {},
   "outputs": [],
   "source": [
    "batch_size = 4"
   ]
  },
  {
   "cell_type": "code",
   "execution_count": 36,
   "id": "77c399b4-9116-4de4-9a32-8e630f27c0bf",
   "metadata": {},
   "outputs": [
    {
     "data": {
      "text/plain": [
       "['/Users/rio/Desktop/LatteProxNote/HarryClassifier',\n",
       " '/Users/rio/opt/anaconda3/lib/python39.zip',\n",
       " '/Users/rio/opt/anaconda3/lib/python3.9',\n",
       " '/Users/rio/opt/anaconda3/lib/python3.9/lib-dynload',\n",
       " '',\n",
       " '/Users/rio/opt/anaconda3/lib/python3.9/site-packages',\n",
       " '/Users/rio/opt/anaconda3/lib/python3.9/site-packages/aeosa']"
      ]
     },
     "execution_count": 36,
     "metadata": {},
     "output_type": "execute_result"
    }
   ],
   "source": [
    "import os, sys\n",
    "# trainset = \n",
    "train_path = \"../harry potters/\"\n",
    "# os.pardir(train_path)\n",
    "# os.path.abspath(train_path)\n",
    "# sys.path\n",
    "from PIL import Image\n",
    "import glob\n",
    "image_list = []\n",
    "# for filename in glob.glob('yourpath/*.gif'): #assuming gif\n",
    "# for filename in glob.glob(os.path.abspath(train_path)): #assuming gif\n",
    "for filename in glob.glob(os.path.join(train_path, '*')): #assuming gif\n",
    "    im=Image.open(filename)\n",
    "    image_list.append(im)"
   ]
  },
  {
   "cell_type": "code",
   "execution_count": null,
   "id": "3bbda02b-d24f-4bb7-b309-dd82162422ce",
   "metadata": {},
   "outputs": [],
   "source": []
  }
 ],
 "metadata": {
  "kernelspec": {
   "display_name": "Python 3 (ipykernel)",
   "language": "python",
   "name": "python3"
  },
  "language_info": {
   "codemirror_mode": {
    "name": "ipython",
    "version": 3
   },
   "file_extension": ".py",
   "mimetype": "text/x-python",
   "name": "python",
   "nbconvert_exporter": "python",
   "pygments_lexer": "ipython3",
   "version": "3.9.13"
  }
 },
 "nbformat": 4,
 "nbformat_minor": 5
}
